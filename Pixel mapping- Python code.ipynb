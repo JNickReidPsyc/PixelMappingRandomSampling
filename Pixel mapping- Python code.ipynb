{
 "cells": [
  {
   "cell_type": "code",
   "execution_count": 156,
   "id": "0d07a49c",
   "metadata": {},
   "outputs": [],
   "source": [
    "import os"
   ]
  },
  {
   "cell_type": "code",
   "execution_count": 157,
   "id": "c816b014",
   "metadata": {},
   "outputs": [],
   "source": [
    "import numpy as np"
   ]
  },
  {
   "cell_type": "code",
   "execution_count": 158,
   "id": "4b24f0d5",
   "metadata": {},
   "outputs": [],
   "source": [
    "from PIL import Image"
   ]
  },
  {
   "cell_type": "code",
   "execution_count": 18,
   "id": "1c5d83fd",
   "metadata": {},
   "outputs": [],
   "source": [
    "# function to sample subsections of image\n",
    "# Creates a vector that is the average across many samples\n",
    "# h = height\n",
    "# w = width\n",
    "def image_sampling(imat, h=100, w=100, samples = 100):\n",
    "    im_vec = np.zeros(h*w*3, dtype=np.float32)\n",
    "    hs = len(imat) - h\n",
    "    ws = len(imat[0]) - w\n",
    "    for s in range(0, samples):\n",
    "        ran_h = np.random.randint(0, hs)\n",
    "        ran_w = np.random.randint(0, ws)\n",
    "        sub_image = im_mat[ran_h:(ran_h+h), ran_w:(ran_w+w)]\n",
    "        im_vec += np.array(sub_image, dtype=np.float32).ravel()\n",
    "    return im_vec / samples"
   ]
  },
  {
   "cell_type": "code",
   "execution_count": 98,
   "id": "95654522",
   "metadata": {},
   "outputs": [],
   "source": [
    "image_list = os.listdir('jpg craiyon') # find image names from directory"
   ]
  },
  {
   "cell_type": "code",
   "execution_count": 99,
   "id": "12b012b8",
   "metadata": {},
   "outputs": [],
   "source": [
    "image_list = ['jpg craiyon/' + i for i in image_list] # get file locations"
   ]
  },
  {
   "cell_type": "code",
   "execution_count": 100,
   "id": "f01978bb",
   "metadata": {},
   "outputs": [],
   "source": [
    "img_matrix = [] # blank list to create matrix"
   ]
  },
  {
   "cell_type": "code",
   "execution_count": null,
   "id": "56d927bc",
   "metadata": {},
   "outputs": [],
   "source": [
    "for i in image_list:    \n",
    "    im_mat = np.array(Image.open(i)) # open image and convert to numpy array\n",
    "    im_vec = image_sampling(im_mat, h=50, w=50, samples=10000) # run the sampling function on image\n",
    "    img_matrix.append(im_vec) # append image vector to matrix"
   ]
  },
  {
   "cell_type": "code",
   "execution_count": 147,
   "id": "c444408a",
   "metadata": {},
   "outputs": [],
   "source": [
    "img_matrix = np.array(img_matrix) # convert list to matrix"
   ]
  },
  {
   "cell_type": "code",
   "execution_count": 92,
   "id": "fae2c902",
   "metadata": {},
   "outputs": [],
   "source": [
    "img_matrix = np.array(img_matrix - np.mean(img_matrix, axis=0)) # mean center vectors "
   ]
  },
  {
   "cell_type": "code",
   "execution_count": 93,
   "id": "24f8c588",
   "metadata": {},
   "outputs": [],
   "source": [
    "image_list = os.listdir('jpg craiyon') # get names of images"
   ]
  },
  {
   "cell_type": "code",
   "execution_count": 94,
   "id": "206c373f",
   "metadata": {},
   "outputs": [],
   "source": [
    "# create a dictionary of image names matched to rows in matrix\n",
    "# This is how I match and image name to it's corresponding vector in the matrix\n",
    "img_dic = {}\n",
    "for i in range(0, len(image_list)):\n",
    "    img_dic[image_list[i]] = i"
   ]
  }
 ],
 "metadata": {
  "kernelspec": {
   "display_name": "Python 3",
   "language": "python",
   "name": "python3"
  },
  "language_info": {
   "codemirror_mode": {
    "name": "ipython",
    "version": 3
   },
   "file_extension": ".py",
   "mimetype": "text/x-python",
   "name": "python",
   "nbconvert_exporter": "python",
   "pygments_lexer": "ipython3",
   "version": "3.8.8"
  }
 },
 "nbformat": 4,
 "nbformat_minor": 5
}
